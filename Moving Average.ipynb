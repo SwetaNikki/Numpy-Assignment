{
 "cells": [
  {
   "cell_type": "code",
   "execution_count": 1,
   "metadata": {},
   "outputs": [
    {
     "data": {
      "text/plain": [
       "'\\nProblem Statement 2:\\nGiven a sequence of n values x1, x2, ..., xn and a window size k>0, the k-th moving average of\\nthe given sequence is defined as follows:\\nThe moving average sequence has n-k+1 elements as shown below.\\nThe moving averages with k=4 of a ten-value sequence (n=10) is shown below\\ni 1 2 3 4 5 6 7 8 9 10\\n===== == == == == == == == == == ==\\nInput 10 20 30 40 50 60 70 80 90 100\\ny1 25 = (10+20+30+40)/4\\ny2 35 = (20+30+40+50)/4\\ny3 45 = (30+40+50+60)/4\\ny4 55 = (40+50+60+70)/4\\ny5 65 = (50+60+70+80)/4\\ny6 75 = (60+70+80+90)/4\\ny7 85 = (70+80+90+100)/4\\nThus, the moving average sequence has n-k+1=10-4+1=7 values.\\n\\nQuestion: Write a function to find moving average in an array over a window:\\nTest it over [3, 5, 7, 2, 8, 10, 11, 65, 72, 81, 99, 100, 150] and window of 3.\\n\\n'"
      ]
     },
     "execution_count": 1,
     "metadata": {},
     "output_type": "execute_result"
    }
   ],
   "source": [
    "\"\"\"\n",
    "Problem Statement 2:\n",
    "Given a sequence of n values x1, x2, ..., xn and a window size k>0, the k-th moving average of\n",
    "the given sequence is defined as follows:\n",
    "The moving average sequence has n-k+1 elements as shown below.\n",
    "The moving averages with k=4 of a ten-value sequence (n=10) is shown below\n",
    "i 1 2 3 4 5 6 7 8 9 10\n",
    "===== == == == == == == == == == ==\n",
    "Input 10 20 30 40 50 60 70 80 90 100\n",
    "y1 25 = (10+20+30+40)/4\n",
    "y2 35 = (20+30+40+50)/4\n",
    "y3 45 = (30+40+50+60)/4\n",
    "y4 55 = (40+50+60+70)/4\n",
    "y5 65 = (50+60+70+80)/4\n",
    "y6 75 = (60+70+80+90)/4\n",
    "y7 85 = (70+80+90+100)/4\n",
    "Thus, the moving average sequence has n-k+1=10-4+1=7 values.\n",
    "\n",
    "Question: Write a function to find moving average in an array over a window:\n",
    "Test it over [3, 5, 7, 2, 8, 10, 11, 65, 72, 81, 99, 100, 150] and window of 3.\n",
    "\n",
    "\"\"\""
   ]
  },
  {
   "cell_type": "code",
   "execution_count": 2,
   "metadata": {},
   "outputs": [],
   "source": [
    "import numpy as np\n",
    "\n",
    "x = np.array([10,20,30,40,50,60,70,80,90,100])\n",
    "a = np.array([3, 5, 7, 2, 8, 10, 11, 65, 72, 81, 99, 100, 150])"
   ]
  },
  {
   "cell_type": "code",
   "execution_count": 3,
   "metadata": {},
   "outputs": [],
   "source": [
    "def moving_average(arr, n):\n",
    "    a1 = np.cumsum(arr)\n",
    "    a1[n:] = a1[n:] - a1[:-n]\n",
    "    return a1[n-1:]/n"
   ]
  },
  {
   "cell_type": "code",
   "execution_count": 4,
   "metadata": {},
   "outputs": [
    {
     "name": "stdout",
     "output_type": "stream",
     "text": [
      "MOVING AVERAGE of x[10,20,30,40,50,60,70,80,90,100]= \n",
      " [25. 35. 45. 55. 65. 75. 85.] \n",
      "\n",
      "\n",
      "MOVING AVERAGE of a[3, 5, 7, 2, 8, 10, 11, 65, 72, 81, 99, 100, 150]= \n",
      " [  5.           4.66666667   5.66666667   6.66666667   9.66666667\n",
      "  28.66666667  49.33333333  72.66666667  84.          93.33333333\n",
      " 116.33333333] \n",
      "\n",
      "\n"
     ]
    }
   ],
   "source": [
    "print(\"MOVING AVERAGE of x[10,20,30,40,50,60,70,80,90,100]= \\n\",np.array(moving_average(x, 4)),\"\\n\\n\")\n",
    "print(\"MOVING AVERAGE of a[3, 5, 7, 2, 8, 10, 11, 65, 72, 81, 99, 100, 150]= \\n\",np.array(moving_average(a, 3)),\"\\n\\n\")"
   ]
  },
  {
   "cell_type": "code",
   "execution_count": null,
   "metadata": {},
   "outputs": [],
   "source": []
  }
 ],
 "metadata": {
  "kernelspec": {
   "display_name": "Python 3",
   "language": "python",
   "name": "python3"
  },
  "language_info": {
   "codemirror_mode": {
    "name": "ipython",
    "version": 3
   },
   "file_extension": ".py",
   "mimetype": "text/x-python",
   "name": "python",
   "nbconvert_exporter": "python",
   "pygments_lexer": "ipython3",
   "version": "3.6.9"
  }
 },
 "nbformat": 4,
 "nbformat_minor": 4
}
