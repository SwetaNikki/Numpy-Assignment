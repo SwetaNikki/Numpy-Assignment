{
 "cells": [
  {
   "cell_type": "code",
   "execution_count": 2,
   "metadata": {},
   "outputs": [],
   "source": [
    "import numpy as np\n",
    "\n",
    "\"\"\"\n",
    "Write a function so that the columns of the output matrix are powers of the input\n",
    "vector.\n",
    "The order of the powers is determined by the increasing boolean argument. Specifically, when\n",
    "increasing is False, the i-th output column is the input vector raised element-wise to the power\n",
    "of N - i - 1.\n",
    "\n",
    "HINT: Such a matrix with a geometric progression in each row is named for Alexandre-\n",
    "Theophile Vandermonde.\n",
    "\"\"\"\n",
    "\n",
    "## function Vander_Monde_matrix \n",
    "def Vander_Monde_matrix(IP_vector, N, increase=False):\n",
    "    if increase:\n",
    "        OP_matrix = np.array([(x**(N-1-i)) for x in IP_vector for i in range(N)]).reshape(IP_vector.size, N)\n",
    "    else:\n",
    "        OP_matrix = np.array([x**i for x in IP_vector for i in range(N)]).reshape(IP_vector.size, N)\n",
    "    return OP_matrix"
   ]
  },
  {
   "cell_type": "code",
   "execution_count": 3,
   "metadata": {},
   "outputs": [
    {
     "name": "stdout",
     "output_type": "stream",
     "text": [
      "-------------OUTPUT WITH N=3 ----------------------\n",
      "The Vander Matrix in Decreasing Order: \n",
      "\n",
      " [[ 1  1  1]\n",
      " [ 1  2  4]\n",
      " [ 1  3  9]\n",
      " [ 1  4 16]\n",
      " [ 1  5 25]]\n",
      "\n",
      "The Vander Matrix in Increasing Order: \n",
      "\n",
      " [[ 1  1  1]\n",
      " [ 4  2  1]\n",
      " [ 9  3  1]\n",
      " [16  4  1]\n",
      " [25  5  1]]\n",
      "-------------OUTPUT WITH N=5----------------------\n",
      "The Vander Matrix in Decreasing Order: \n",
      "\n",
      " [[    1     1     1     1     1]\n",
      " [    1     2     4     8    16]\n",
      " [    1     3     9    27    81]\n",
      " [    1     4    16    64   256]\n",
      " [    1     5    25   125   625]\n",
      " [    1     6    36   216  1296]\n",
      " [    1     7    49   343  2401]\n",
      " [    1     8    64   512  4096]\n",
      " [    1     9    81   729  6561]\n",
      " [    1    10   100  1000 10000]]\n",
      "\n",
      "The Vander Matrix in Increasing Order: \n",
      "\n",
      " [[    1     1     1     1     1]\n",
      " [   16     8     4     2     1]\n",
      " [   81    27     9     3     1]\n",
      " [  256    64    16     4     1]\n",
      " [  625   125    25     5     1]\n",
      " [ 1296   216    36     6     1]\n",
      " [ 2401   343    49     7     1]\n",
      " [ 4096   512    64     8     1]\n",
      " [ 6561   729    81     9     1]\n",
      " [10000  1000   100    10     1]]\n"
     ]
    }
   ],
   "source": [
    "print(\"-------------OUTPUT WITH N=3 ----------------------\")\n",
    "IP_vector = np.array([1,2,3,4,5])\n",
    "N = 3\n",
    "print(\"The Vander Matrix in Decreasing Order: \\n\\n\",Vander_Monde_matrix(IP_vector, N, False))\n",
    "print()\n",
    "print(\"The Vander Matrix in Increasing Order: \\n\\n\",Vander_Monde_matrix(IP_vector, N, True))\n",
    "\n",
    "\n",
    "print(\"-------------OUTPUT WITH N=5----------------------\")\n",
    "IP_vector = np.array([1,2,3,4,5,6,7,8,9,10])\n",
    "N = 5\n",
    "print(\"The Vander Matrix in Decreasing Order: \\n\\n\",Vander_Monde_matrix(IP_vector, N, False))\n",
    "print()\n",
    "print(\"The Vander Matrix in Increasing Order: \\n\\n\",Vander_Monde_matrix(IP_vector, N, True))\n",
    "\n"
   ]
  }
 ],
 "metadata": {
  "kernelspec": {
   "display_name": "Python 3",
   "language": "python",
   "name": "python3"
  },
  "language_info": {
   "codemirror_mode": {
    "name": "ipython",
    "version": 3
   },
   "file_extension": ".py",
   "mimetype": "text/x-python",
   "name": "python",
   "nbconvert_exporter": "python",
   "pygments_lexer": "ipython3",
   "version": "3.6.9"
  }
 },
 "nbformat": 4,
 "nbformat_minor": 4
}
